{
 "cells": [
  {
   "cell_type": "code",
   "execution_count": null,
   "metadata": {},
   "outputs": [],
   "source": [
    "from __future__ import absolute_import\n",
    "from __future__ import division\n",
    "from __future__ import print_function\n",
    "\n",
    "# import tensorflow\n",
    "import tensorflow as tf\n",
    "# import MNIST (MNIST is a dataset containing correctly labeled images of handwritten numbers)\n",
    "from tensorflow.examples.tutorials.mnist import input_data"
   ]
  },
  {
   "cell_type": "code",
   "execution_count": null,
   "metadata": {},
   "outputs": [],
   "source": [
    "# create a variable containing MNIST data\n",
    "# There's more than 30,000 images here \n",
    "# Just imagine the man hours :P\n",
    "mnist = input_data.read_data_sets(\"/tmp/data/\", one_hot=False)\n",
    "# Ignore the warnings :P"
   ]
  },
  {
   "cell_type": "code",
   "execution_count": null,
   "metadata": {},
   "outputs": [],
   "source": [
    "# set our parameters\n",
    "\n",
    "# How much a step we take. Higher learning rates means faster learning but less stable performance\n",
    "learning_rate = 0.001 \n",
    "# How many images we are training on at every step. \n",
    "# Remember this is gradient descent so we are gonna take small steps of just 128 images towards the goal\n",
    "batch_size = 128\n",
    "# runn 2000 steps\n",
    "n_steps = 2000\n",
    "\n",
    "# How many neurons for each layer\n",
    "n_inputs = 28 * 28 # its a 28 by 28 pixel image so input is gonna be 28 * 28\n",
    "n_hidden1 = 300\n",
    "n_hidden2 = 100\n",
    "n_output = 10 # output is probabilities of the image being a particular number"
   ]
  },
  {
   "cell_type": "code",
   "execution_count": null,
   "metadata": {},
   "outputs": [],
   "source": [
    "# create placeholders\n",
    "# this is where we will feed in the images and the labels\n",
    "# x is where we will feed in the image\n",
    "x = tf.placeholder(tf.float32, shape=(None, n_inputs), name=\"X\")\n",
    "# y is where we will feed in the label for the corresponding image\n",
    "# i.e. if the image is a 3, y is 3\n",
    "y = tf.placeholder(tf.int64, shape=None, name=\"y\")"
   ]
  },
  {
   "cell_type": "code",
   "execution_count": null,
   "metadata": {},
   "outputs": [],
   "source": [
    "# create the neural network\n",
    "# hidden1 layer takes in our image input (x)\n",
    "# we will be using the relu activation function\n",
    "# for more about activation functions:\n",
    "# https://towardsdatascience.com/activation-functions-and-its-types-which-is-better-a9a5310cc8f\n",
    "hidden1_layer = tf.layers.dense(x, n_hidden1, name=\"hidden1\", activation=tf.nn.relu)\n",
    "hidden2_layer = tf.layers.dense(hidden1_layer, n_hidden2, name=\"hidden2\", activation=tf.nn.relu)\n",
    "output_layer = tf.layers.dense(hidden2_layer, n_output, name=\"outputs\")\n",
    "# if you get some weird error about reuse, restart the kernel"
   ]
  },
  {
   "cell_type": "code",
   "execution_count": null,
   "metadata": {},
   "outputs": [],
   "source": [
    "# training\n",
    "# instead of using squared error like the 3Blue1Brown video, we use cross entropy error\n",
    "# cross entropy is much better: https://jamesmccaffrey.wordpress.com/2013/11/05/why-you-should-use-cross-entropy-error-instead-of-classification-error-or-mean-squared-error-for-neural-network-classifier-training/\n",
    "cross_entropy = tf.nn.sparse_softmax_cross_entropy_with_logits(labels=y, logits=output_layer)\n",
    "# add up all the error\n",
    "loss = tf.reduce_mean(cross_entropy, name=\"loss\")"
   ]
  },
  {
   "cell_type": "code",
   "execution_count": null,
   "metadata": {},
   "outputs": [],
   "source": [
    "# we will use Adam Optimizer to do all the backpropagation heavy lifting for us\n",
    "optimizer = tf.train.AdamOptimizer(learning_rate=learning_rate) \n",
    "# create an operator that we can call on to minimize loss\n",
    "training_op = optimizer.minimize(loss)"
   ]
  },
  {
   "cell_type": "code",
   "execution_count": null,
   "metadata": {},
   "outputs": [],
   "source": [
    "# create operators for evaluating the network\n",
    "with tf.name_scope(\"eval\"):\n",
    "    # correct variable is the number of correct labels\n",
    "    correct = tf.nn.in_top_k(output_layer, y, 1)\n",
    "    # count up the number of correct labels\n",
    "    accuracy = tf.reduce_mean(tf.cast(correct, tf.float32))"
   ]
  },
  {
   "cell_type": "code",
   "execution_count": null,
   "metadata": {},
   "outputs": [],
   "source": [
    "# we built the network and training stuff\n",
    "# so now lets start training the network\n",
    "\n",
    "# creates a tensorflow session data\n",
    "# the session will keep all of our values and current state of the network\n",
    "with tf.Session() as sess:\n",
    "    # first initialize the values in the network\n",
    "    tf.global_variables_initializer().run()\n",
    "    for step in range(n_steps):\n",
    "        # creates a batch of images and labels\n",
    "        x_batch, y_batch = mnist.train.next_batch(batch_size)\n",
    "        # feed in the batch of images and batch of labels\n",
    "        # and run the training operator on them\n",
    "        sess.run(training_op, feed_dict={x: x_batch, y: y_batch})\n",
    "        # feed in the test images and the test labels (which the network has never seen)\n",
    "        # and evaluate the accuracy\n",
    "        accuracy_val = sess.run(accuracy, feed_dict={x: mnist.test.images, y: mnist.test.labels})\n",
    "        print(step, \"Test accuracy:\", accuracy_val)"
   ]
  },
  {
   "cell_type": "markdown",
   "metadata": {},
   "source": [
    "# Watch Its Accuracy Take Off Like a Rocket!"
   ]
  },
  {
   "cell_type": "code",
   "execution_count": null,
   "metadata": {},
   "outputs": [],
   "source": []
  }
 ],
 "metadata": {
  "kernelspec": {
   "display_name": "Python 3",
   "language": "python",
   "name": "python3"
  },
  "language_info": {
   "codemirror_mode": {
    "name": "ipython",
    "version": 3
   },
   "file_extension": ".py",
   "mimetype": "text/x-python",
   "name": "python",
   "nbconvert_exporter": "python",
   "pygments_lexer": "ipython3",
   "version": "3.6.7"
  }
 },
 "nbformat": 4,
 "nbformat_minor": 2
}
